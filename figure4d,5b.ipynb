{
 "cells": [
  {
   "cell_type": "code",
   "execution_count": null,
   "metadata": {},
   "outputs": [],
   "source": [
    "#figure 4d"
   ]
  },
  {
   "cell_type": "code",
   "execution_count": 82,
   "metadata": {},
   "outputs": [],
   "source": [
    "genelist_clip_lin28a = []\n",
    "genelist_ribosomeprof_siLin28a = []\n",
    "genelist_ribosomeprof_siLuc = []\n",
    "genelist_rnaseq_siLin28a = []\n",
    "genelist_rnaseq_siLuc = []\n",
    "genelist_rnaseq_untreated = []\n",
    "genedic_clip_lin28a = {}\n",
    "genedic_ribosomeprof_siLin28a = {}\n",
    "genedic_ribosomeprof_siLuc ={}\n",
    "genedic_rnaseq_siLin28a = {}\n",
    "genedic_rnaseq_siLuc = {}\n",
    "genedic_rnaseq_untreated = {}"
   ]
  },
  {
   "cell_type": "code",
   "execution_count": 83,
   "metadata": {},
   "outputs": [],
   "source": [
    "genelists = [genelist_clip_lin28a, genelist_ribosomeprof_siLin28a, genelist_ribosomeprof_siLuc, \n",
    "             genelist_rnaseq_siLin28a, genelist_rnaseq_siLuc, genelist_rnaseq_untreated]\n",
    "genedicts = [genedic_clip_lin28a, genedic_ribosomeprof_siLin28a, genedic_ribosomeprof_siLuc,\n",
    "            genedic_rnaseq_siLin28a, genedic_rnaseq_siLuc, genedic_rnaseq_untreated]"
   ]
  },
  {
   "cell_type": "code",
   "execution_count": 84,
   "metadata": {},
   "outputs": [
    {
     "ename": "KeyboardInterrupt",
     "evalue": "",
     "output_type": "error",
     "traceback": [
      "\u001b[0;31m---------------------------------------------------------------------------\u001b[0m",
      "\u001b[0;31mKeyboardInterrupt\u001b[0m                         Traceback (most recent call last)",
      "\u001b[0;32m<ipython-input-84-5a8d9acc0ae2>\u001b[0m in \u001b[0;36m<module>\u001b[0;34m()\u001b[0m\n\u001b[1;32m     16\u001b[0m                 \u001b[0;32mcontinue\u001b[0m\u001b[0;34m\u001b[0m\u001b[0;34m\u001b[0m\u001b[0m\n\u001b[1;32m     17\u001b[0m             \u001b[0;32melse\u001b[0m\u001b[0;34m:\u001b[0m\u001b[0;34m\u001b[0m\u001b[0;34m\u001b[0m\u001b[0m\n\u001b[0;32m---> 18\u001b[0;31m                 \u001b[0mgenedicts\u001b[0m\u001b[0;34m[\u001b[0m\u001b[0mi\u001b[0m\u001b[0;34m]\u001b[0m\u001b[0;34m[\u001b[0m\u001b[0melement\u001b[0m\u001b[0;34m]\u001b[0m \u001b[0;34m=\u001b[0m \u001b[0mgenelists\u001b[0m\u001b[0;34m[\u001b[0m\u001b[0mi\u001b[0m\u001b[0;34m]\u001b[0m\u001b[0;34m.\u001b[0m\u001b[0mcount\u001b[0m\u001b[0;34m(\u001b[0m\u001b[0melement\u001b[0m\u001b[0;34m)\u001b[0m\u001b[0;34m\u001b[0m\u001b[0;34m\u001b[0m\u001b[0m\n\u001b[0m\u001b[1;32m     19\u001b[0m     \u001b[0mi\u001b[0m \u001b[0;34m+=\u001b[0m \u001b[0;36m1\u001b[0m\u001b[0;34m\u001b[0m\u001b[0;34m\u001b[0m\u001b[0m\n",
      "\u001b[0;31mKeyboardInterrupt\u001b[0m: "
     ]
    }
   ],
   "source": [
    "#진짜 script, 작동전에 위에 genelists랑 genedicts 지정하는 codeblock 두개를 실행해줘서 각각 빈 list와 dictionary로 해줘야됨\n",
    "filelist = [\"clipped_lin28a_removed.sam\", \"ribosomeprof_siLin28a_removed.sam\", \"ribosomeprof_siLuc_removed.sam\",\n",
    "           \"rnaseq_siLin28a_removed.sam\", \"rnaseq_siLuc_removed.sam\", \"rnaseq_untreated_removed.sam\"]\n",
    "i = 0\n",
    "for file in filelist:\n",
    "    with open(file) as inpfile:\n",
    "        for line in inpfile:\n",
    "            if line.startswith('@'):\n",
    "                continue\n",
    "            else:\n",
    "                lines = line.split('\\t')[2].split('|')\n",
    "                if lines[1].startswith('ENSMUSG'):\n",
    "                    genelists[i].append(lines[1])\n",
    "        for element in genelists[i]:\n",
    "            if element in genedicts[i]:\n",
    "                continue\n",
    "            else:\n",
    "                genedicts[i][element] = genelists[i].count(element)\n",
    "    i += 1"
   ]
  },
  {
   "cell_type": "code",
   "execution_count": 64,
   "metadata": {},
   "outputs": [],
   "source": [
    "#filelist에 대한 loop, 해당 script는 실험을 위해 break를 넣었음 > 작동함을 확인\n",
    "filelist = [\"clipped_lin28a_removed.sam\", \"ribosomeprof_siLin28a_removed.sam\", \"ribosomeprof_siLuc_removed.sam\",\n",
    "           \"rnaseq_siLin28a_removed.sam\", \"rnaseq_siLuc_removed.sam\", \"rnaseq_untreated_removed.sam\"]\n",
    "i = 0\n",
    "for file in filelist:\n",
    "    with open(file) as inpfile:\n",
    "        for line in inpfile:\n",
    "            if line.startswith('@'):\n",
    "                continue\n",
    "            else:\n",
    "                lines = line.split('\\t')[2].split('|')\n",
    "                if lines[1].startswith('ENSMUSG'):\n",
    "                    genelists[i].append(lines[1])\n",
    "                    break\n",
    "        for element in genelists[i]:\n",
    "            if element in genedicts[i]:\n",
    "                continue\n",
    "            else:\n",
    "                genedicts[i][element] = genelists[i].count(element)\n",
    "    i += 1"
   ]
  },
  {
   "cell_type": "code",
   "execution_count": 140,
   "metadata": {},
   "outputs": [],
   "source": [
    "genelist_rnaseq_siLin28a = []\n",
    "genelist_rnaseq_siLuc = []\n",
    "genelist_rnaseq_untreated = []\n",
    "genedic_rnaseq_siLin28a = {}\n",
    "genedic_rnaseq_siLuc = {}\n",
    "genedic_rnaseq_untreated = {}"
   ]
  },
  {
   "cell_type": "code",
   "execution_count": 141,
   "metadata": {},
   "outputs": [],
   "source": [
    "genelists = [genelist_clip_lin28a, genelist_ribosomeprof_siLin28a, genelist_ribosomeprof_siLuc, \n",
    "             genelist_rnaseq_siLin28a, genelist_rnaseq_siLuc, genelist_rnaseq_untreated]\n",
    "genedicts = [genedic_clip_lin28a, genedic_ribosomeprof_siLin28a, genedic_ribosomeprof_siLuc,\n",
    "            genedic_rnaseq_siLin28a, genedic_rnaseq_siLuc, genedic_rnaseq_untreated]"
   ]
  },
  {
   "cell_type": "code",
   "execution_count": 142,
   "metadata": {},
   "outputs": [
    {
     "ename": "KeyboardInterrupt",
     "evalue": "",
     "output_type": "error",
     "traceback": [
      "\u001b[0;31m---------------------------------------------------------------------------\u001b[0m",
      "\u001b[0;31mKeyboardInterrupt\u001b[0m                         Traceback (most recent call last)",
      "\u001b[0;32m<ipython-input-142-5584810f28f1>\u001b[0m in \u001b[0;36m<module>\u001b[0;34m()\u001b[0m\n\u001b[1;32m     16\u001b[0m                 \u001b[0;32mcontinue\u001b[0m\u001b[0;34m\u001b[0m\u001b[0;34m\u001b[0m\u001b[0m\n\u001b[1;32m     17\u001b[0m             \u001b[0;32melse\u001b[0m\u001b[0;34m:\u001b[0m\u001b[0;34m\u001b[0m\u001b[0;34m\u001b[0m\u001b[0m\n\u001b[0;32m---> 18\u001b[0;31m                 \u001b[0mgenedicts\u001b[0m\u001b[0;34m[\u001b[0m\u001b[0mi\u001b[0m\u001b[0;34m]\u001b[0m\u001b[0;34m[\u001b[0m\u001b[0melement\u001b[0m\u001b[0;34m]\u001b[0m \u001b[0;34m=\u001b[0m \u001b[0mgenelists\u001b[0m\u001b[0;34m[\u001b[0m\u001b[0mi\u001b[0m\u001b[0;34m]\u001b[0m\u001b[0;34m.\u001b[0m\u001b[0mcount\u001b[0m\u001b[0;34m(\u001b[0m\u001b[0melement\u001b[0m\u001b[0;34m)\u001b[0m\u001b[0;34m\u001b[0m\u001b[0;34m\u001b[0m\u001b[0m\n\u001b[0m\u001b[1;32m     19\u001b[0m     \u001b[0mi\u001b[0m \u001b[0;34m+=\u001b[0m \u001b[0;36m1\u001b[0m\u001b[0;34m\u001b[0m\u001b[0;34m\u001b[0m\u001b[0m\n",
      "\u001b[0;31mKeyboardInterrupt\u001b[0m: "
     ]
    }
   ],
   "source": [
    "#진짜 script, 작동전에 위에 genelists랑 genedicts 지정하는 codeblock 두개를 실행해줘서 각각 빈 list와 dictionary로 해줘야됨!\n",
    "#중간에 ribosomeprof_siLuc까지만 하고 끊겨서 i입력값을 3으로만 바꾸어주고 돌렸는데 실수였다. 왜냐하면 filelist loop에서 따로 i를\n",
    "#지정해주지 않아서 무조건 처음 파일(clip)부터 돌아가는것이기에 결국 다시 다 구했다...  앞으로는 filelist loop시 무조건 i를 지정해주어야겠다\n",
    "filelist = [\"clipped_lin28a_removed.sam\", \"ribosomeprof_siLin28a_removed.sam\", \"ribosomeprof_siLuc_removed.sam\",\n",
    "           \"rnaseq_siLin28a_removed.sam\", \"rnaseq_siLuc_removed.sam\", \"rnaseq_untreated_removed.sam\"]\n",
    "i = 0\n",
    "for file in filelist:\n",
    "    with open(file) as inpfile:\n",
    "        for line in inpfile:\n",
    "            if line.startswith('@'):\n",
    "                continue\n",
    "            else:\n",
    "                lines = line.split('\\t')[2].split('|')\n",
    "                if lines[1].startswith('ENSMUSG'):\n",
    "                    genelists[i].append(lines[1])\n",
    "        for element in genelists[i]:\n",
    "            if element in genedicts[i]:\n",
    "                continue\n",
    "            else:\n",
    "                genedicts[i][element] = genelists[i].count(element)\n",
    "    i += 1"
   ]
  },
  {
   "cell_type": "code",
   "execution_count": 118,
   "metadata": {},
   "outputs": [],
   "source": [
    "#모든 여섯개 파일에 대하여 genedic 완성\n",
    "#genedicts = [genedic_clip_lin28a, genedic_ribosomeprof_siLin28a, genedic_ribosomeprof_siLuc,\n",
    "#             genedic_rnaseq_siLin28a, genedic_rnaseq_siLuc, genedic_rnaseq_untreated]\n",
    "#genelists = [genelist_clip_lin28a, genelist_ribosomeprof_siLin28a, genelist_ribosomeprof_siLuc, \n",
    "#             genelist_rnaseq_siLin28a, genelist_rnaseq_siLuc, genelist_rnaseq_untreated]\n",
    "#이 12개 list 및 dictionary는 절대절대 건들지 말것!"
   ]
  },
  {
   "cell_type": "code",
   "execution_count": 236,
   "metadata": {},
   "outputs": [],
   "source": [
    "#Lin28a clip enrichment 및 다른 세개 값 구하기 시작\n",
    "keylist_clip_lin28a = list(genedic_clip_lin28a.keys())\n",
    "keylist_rnaseq_untreated = list(genedic_rnaseq_untreated.keys())\n",
    "keylist_ribosomeprof_siLin28a = list(genedic_ribosomeprof_siLin28a.keys())\n",
    "keylist_ribosomeprof_siLuc = list(genedic_ribosomeprof_siLuc.keys())\n",
    "keylist_rnaseq_siLin28a = list(genedic_rnaseq_siLin28a.keys())\n",
    "keylist_rnaseq_siLuc = list(genedic_rnaseq_siLuc.keys())\n",
    "import math"
   ]
  },
  {
   "cell_type": "code",
   "execution_count": 282,
   "metadata": {},
   "outputs": [],
   "source": [
    "#사실 이건 쓸데없는 과정인지 고민이 좀 되었는데, 만약 예를들어 clip enrichment를 구할 시 clip에는 없고 rnaseq untreated에는 있는 EMSMUSG가 있을 수도 있다고 생각했다.\n",
    "#그래서 clip_lin28a의 genelist사용대신 따로 keylist를 만들었는데, 실제로 가장 genelist의 key수가 많은 library보다 keylist의 length가 더 긴것을 알 수 있었다.\n",
    "keylist=[]\n",
    "for line in keylist_clip_lin28a + keylist_rnaseq_untreated+keylist_ribosomeprof_siLin28a+keylist_ribosomeprof_siLuc+keylist_rnaseq_siLin28a+keylist_rnaseq_siLuc:\n",
    "    if line in keylist:\n",
    "        continue\n",
    "    else:\n",
    "        keylist.append(line)"
   ]
  },
  {
   "cell_type": "code",
   "execution_count": 238,
   "metadata": {},
   "outputs": [
    {
     "data": {
      "text/plain": [
       "50990"
      ]
     },
     "execution_count": 238,
     "metadata": {},
     "output_type": "execute_result"
    }
   ],
   "source": [
    "#len(keylist)확인"
   ]
  },
  {
   "cell_type": "code",
   "execution_count": 251,
   "metadata": {},
   "outputs": [],
   "source": [
    "clip_enrichment_result={}\n",
    "for line in keylist_clip_lin28a:\n",
    "    if line in genedic_clip_lin28a:\n",
    "        if line in genedic_rnaseq_untreated:\n",
    "            clip_enrichment_result[line]=math.log((genedic_clip_lin28a[line])/(genedic_rnaseq_untreated[line]), 2)\n",
    "        else:\n",
    "            clip_enrichment_result[line] = math.log((genedic_clip_lin28a[line]+1)/1, 2)\n",
    "    else:\n",
    "        if line in genedic_rnaseq_untreated:\n",
    "            clip_enrichment_result[line] = math.log(1/(genedic_rnaseq_untreated[line]+1), 2)\n",
    "        else:\n",
    "            clip_enrichment_result[line] = 0"
   ]
  },
  {
   "cell_type": "code",
   "execution_count": 252,
   "metadata": {},
   "outputs": [],
   "source": [
    "Lin28a_knockdown_ribosomedensity_result={}\n",
    "for line in keylist_clip_lin28a:\n",
    "    if line in genedic_ribosomeprof_siLin28a:\n",
    "        if line in genedic_rnaseq_siLin28a:\n",
    "            Lin28a_knockdown_ribosomedensity_result[line]=math.log((genedic_ribosomeprof_siLin28a[line])/(genedic_rnaseq_siLin28a[line]), 2)\n",
    "        else:\n",
    "            Lin28a_knockdown_ribosomedensity_result[line] = math.log((genedic_ribosomeprof_siLin28a[line]+1)/1, 2)\n",
    "    else:\n",
    "        if line in genedic_rnaseq_siLin28a:\n",
    "            Lin28a_knockdown_ribosomedensity_result[line] = math.log(1/(genedic_rnaseq_siLin28a[line]+1), 2)\n",
    "        else:\n",
    "            Lin28a_knockdown_ribosomedensity_result[line] = 0"
   ]
  },
  {
   "cell_type": "code",
   "execution_count": 253,
   "metadata": {},
   "outputs": [],
   "source": [
    "Luc_knockdown_ribosomedensity_result={}\n",
    "for line in keylist_clip_lin28a:\n",
    "    if line in genedic_ribosomeprof_siLuc:\n",
    "        if line in genedic_rnaseq_siLuc:\n",
    "            Luc_knockdown_ribosomedensity_result[line]=math.log((genedic_ribosomeprof_siLuc[line])/(genedic_rnaseq_siLuc[line]), 2)\n",
    "        else:\n",
    "            Luc_knockdown_ribosomedensity_result[line] = math.log((genedic_ribosomeprof_siLuc[line]+1)/1, 2)\n",
    "    else:\n",
    "        if line in genedic_rnaseq_siLuc:\n",
    "            Luc_knockdown_ribosomedensity_result[line] = math.log(1/(genedic_rnaseq_siLuc[line]+1), 2)\n",
    "        else:\n",
    "            Luc_knockdown_ribosomedensity_result[line] = 0"
   ]
  },
  {
   "cell_type": "code",
   "execution_count": 256,
   "metadata": {},
   "outputs": [],
   "source": [
    "Ribosome_density_change_result = {}\n",
    "for line in keylist_clip_lin28a:\n",
    "    Ribosome_density_change_result[line] = Lin28a_knockdown_ribosomedensity_result[line] - Luc_knockdown_ribosomedensity_result[line]"
   ]
  },
  {
   "cell_type": "code",
   "execution_count": null,
   "metadata": {},
   "outputs": [],
   "source": [
    "#clip_enrichment_result와 Ribosome_density_change_result를 사용하여 plotting하기"
   ]
  },
  {
   "cell_type": "code",
   "execution_count": 208,
   "metadata": {},
   "outputs": [
    {
     "name": "stderr",
     "output_type": "stream",
     "text": [
      "Matplotlib is building the font cache; this may take a moment.\n"
     ]
    }
   ],
   "source": [
    "import numpy as np\n",
    "import matplotlib.pyplot as plt"
   ]
  },
  {
   "cell_type": "code",
   "execution_count": 262,
   "metadata": {},
   "outputs": [
    {
     "data": {
      "image/png": "[encoded data removed]",
      "text/plain": [
       "<Figure size 432x288 with 1 Axes>"
      ]
     },
     "metadata": {
      "needs_background": "light"
     },
     "output_type": "display_data"
    }
   ],
   "source": [
    "x = []\n",
    "y = []\n",
    "for line in keylist_clip_lin28a:\n",
    "    x.append(clip_enrichment_result[line])\n",
    "    y.append(Ribosome_density_change_result[line])\n",
    "    \n",
    "plt.scatter(x, y, c = 'blue', s= 0.05, alpha=0.05)\n",
    "plt.show()\n",
    "\n",
    "\n",
    "#plt.scatter(x, y, s=area, c=colors, alpha=0.5)\n",
    "#plt.show()"
   ]
  },
  {
   "cell_type": "code",
   "execution_count": 281,
   "metadata": {},
   "outputs": [
    {
     "data": {
      "text/plain": [
       "<matplotlib.collections.PathCollection at 0x7fc8b6698590>"
      ]
     },
     "execution_count": 281,
     "metadata": {},
     "output_type": "execute_result"
    },
    {
     "data": {
      "image/png": "[encoded data removed]",
      "text/plain": [
       "<Figure size 432x288 with 1 Axes>"
      ]
     },
     "metadata": {
      "needs_background": "light"
     },
     "output_type": "display_data"
    }
   ],
   "source": [
    "#subsampling 해준 것\n",
    "#multiple alignment에 대한 처리도 해 주지 않았고, 자료의 버전도 차이가 있는 등, 여러 이유로 인해 논문과 완전히 같지는 않다.\n",
    "import random\n",
    "max_points = len(x)\n",
    "\n",
    "random_indexes = random.sample(range(max_points), 20000)\n",
    "\n",
    "new_x = [x[i] for i in random_indexes]\n",
    "new_y = [y[i] for i in random_indexes]\n",
    "\n",
    "plt.scatter(new_x, new_y, c='red', s = 0.05, alpha=0.1)"
   ]
  },
  {
   "cell_type": "code",
   "execution_count": null,
   "metadata": {},
   "outputs": [],
   "source": []
  },
  {
   "cell_type": "code",
   "execution_count": null,
   "metadata": {},
   "outputs": [],
   "source": [
    "#figure 5B/S6A"
   ]
  },
  {
   "cell_type": "code",
   "execution_count": 283,
   "metadata": {},
   "outputs": [
    {
     "data": {
      "text/plain": [
       "'/qbio/nest/minor/outcome/outcome_alignment/SAMfiles/SAM_remove_FLAG4'"
      ]
     },
     "execution_count": 283,
     "metadata": {},
     "output_type": "execute_result"
    }
   ],
   "source": [
    "%pwd"
   ]
  },
  {
   "cell_type": "code",
   "execution_count": 284,
   "metadata": {},
   "outputs": [
    {
     "name": "stdout",
     "output_type": "stream",
     "text": [
      "/qbio/nest/minor/data/GO\n"
     ]
    }
   ],
   "source": [
    "%cd /qbio/nest/minor/data/GO"
   ]
  },
  {
   "cell_type": "code",
   "execution_count": 286,
   "metadata": {},
   "outputs": [
    {
     "name": "stdout",
     "output_type": "stream",
     "text": [
      "6083\n"
     ]
    }
   ],
   "source": [
    "#1. GO의 sublocation 값에 따라 ENSMUST 그룹을 다섯개로 나누기\n",
    "#중간중간 여러 suclocation(ex. nucleus and cytoplasm)을 가지는 GO entry가 있었다. 고민을 하다, 그런 값은 제외하고, 오직 하나의 sublocation group에만 포함되는\n",
    "#transcript에 대해서만 처리를 하기로 했다. 확인 결과, 각 그룹(list)의 길이도 충분하게 나왔다고 생각해(최소 4000) 이대로 진행을 하였다.\n",
    "\n",
    "\n",
    "#이거는 GO값 일일이 치면 오타날가봐 넣은건데 해놓고 나니 불필요했나 싶기도 했다.\n",
    "GO_numbers = ['[GO:0005634]', '[GO:0016021]', '[GO:0005737]', '[GO:0005576]', '[GO:0009986]', '[GO:0005794]', '[GO:0005783]']\n",
    "import re\n",
    "\n",
    "#Nucleus ENSMUST list 구하기\n",
    "Nucleus = []\n",
    "with open (\"uniprot-mouse+mus.tab\") as inpfile:\n",
    "    for line in inpfile:\n",
    "        if line.startswith('Entry'):\n",
    "            continue\n",
    "        else:\n",
    "            line = line.strip('\\n')\n",
    "            lines = re.split('; |\\ ', line.split('\\t')[4])\n",
    "            transcript = list(filter(None, line.split('\\t')[3].split(';')))\n",
    "            if GO_numbers[0] in lines: \n",
    "                nonlists = GO_numbers[1:] + ['[GO:0031966]']\n",
    "                i = 0\n",
    "                for element in nonlists:\n",
    "                    if element in lines:\n",
    "                        i += 1\n",
    "                    else:\n",
    "                        continue\n",
    "                if i ==0 :\n",
    "                    Nucleus = Nucleus + transcript\n",
    "                    \n",
    "    #print(len(Nucleus))"
   ]
  },
  {
   "cell_type": "code",
   "execution_count": 287,
   "metadata": {},
   "outputs": [
    {
     "name": "stdout",
     "output_type": "stream",
     "text": [
      "10881\n"
     ]
    }
   ],
   "source": [
    "#integral membrane ENSMUST list 구하기\n",
    "\n",
    "integral_membrane = []\n",
    "with open (\"uniprot-mouse+mus.tab\") as inpfile:\n",
    "    for line in inpfile:\n",
    "        if line.startswith('Entry'):\n",
    "            continue\n",
    "        else:\n",
    "            line = line.strip('\\n')\n",
    "            lines = re.split('; |\\ ', line.split('\\t')[4])\n",
    "            transcript = list(filter(None, line.split('\\t')[3].split(';')))\n",
    "            if GO_numbers[1] in lines: \n",
    "                nonlists = GO_numbers[2:] + ['[GO:0031966]', GO_numbers[0]]\n",
    "                i = 0\n",
    "                for element in nonlists:\n",
    "                    if element in lines:\n",
    "                        i += 1\n",
    "                    else:\n",
    "                        continue\n",
    "                if i ==0 :\n",
    "                    integral_membrane = integral_membrane + transcript\n",
    "                    \n",
    "    #print(len(integral_membrane))"
   ]
  },
  {
   "cell_type": "code",
   "execution_count": 288,
   "metadata": {},
   "outputs": [
    {
     "name": "stdout",
     "output_type": "stream",
     "text": [
      "4717\n"
     ]
    }
   ],
   "source": [
    "#cytoplasm ENSMUST list 구하기\n",
    "\n",
    "cytoplasm = []\n",
    "with open (\"uniprot-mouse+mus.tab\") as inpfile:\n",
    "    for line in inpfile:\n",
    "        if line.startswith('Entry'):\n",
    "            continue\n",
    "        else:\n",
    "            line = line.strip('\\n')\n",
    "            lines = re.split('; |\\ ', line.split('\\t')[4])\n",
    "            transcript = list(filter(None, line.split('\\t')[3].split(';')))\n",
    "            if GO_numbers[2] in lines: \n",
    "                nonlists = GO_numbers[3:] + ['[GO:0031966]', GO_numbers[0], GO_numbers[1]]\n",
    "                i = 0\n",
    "                for element in nonlists:\n",
    "                    if element in lines:\n",
    "                        i += 1\n",
    "                    else:\n",
    "                        continue\n",
    "                if i ==0 :\n",
    "                    cytoplasm = cytoplasm + transcript\n",
    "                    \n",
    "    #print(len(cytoplasm))"
   ]
  },
  {
   "cell_type": "code",
   "execution_count": 289,
   "metadata": {},
   "outputs": [
    {
     "name": "stdout",
     "output_type": "stream",
     "text": [
      "14125\n"
     ]
    }
   ],
   "source": [
    "#ER associated ENSMUST list 구하기\n",
    "\n",
    "ER_associated = []\n",
    "with open (\"uniprot-mouse+mus.tab\") as inpfile:\n",
    "    for line in inpfile:\n",
    "        if line.startswith('Entry'):\n",
    "            continue\n",
    "        else:\n",
    "            line = line.strip('\\n')\n",
    "            lines = re.split('; |\\ ', line.split('\\t')[4])\n",
    "            transcript = list(filter(None, line.split('\\t')[3].split(';')))\n",
    "            er_gonum = GO_numbers[3:4] + [GO_numbers[1]]\n",
    "            for ernum in er_gonum:\n",
    "                if ernum in lines:\n",
    "                    nonlists = GO_numbers[5:6] + ['[GO:0031966]', GO_numbers[0] + GO_numbers[2]]\n",
    "                    i = 0\n",
    "                    for element in nonlists:\n",
    "                        if element in lines:\n",
    "                            i += 1\n",
    "                        else:\n",
    "                            continue\n",
    "                    if i ==0 :\n",
    "                        if transcript in ER_associated:\n",
    "                            continue\n",
    "                        else:\n",
    "                            ER_associated = ER_associated + transcript\n",
    "                    \n",
    "    #print(len(ER_associated))"
   ]
  },
  {
   "cell_type": "code",
   "execution_count": 290,
   "metadata": {},
   "outputs": [
    {
     "name": "stdout",
     "output_type": "stream",
     "text": [
      "67254\n"
     ]
    }
   ],
   "source": [
    "#non-ER associatd ENSMUST list 구하기\n",
    "nonER_associated = []\n",
    "with open (\"uniprot-mouse+mus.tab\") as inpfile:\n",
    "    for line in inpfile:\n",
    "        if line.startswith('Entry'):\n",
    "            continue\n",
    "        else:\n",
    "            line = line.strip('\\n')\n",
    "            lines = re.split('; |\\ ', line.split('\\t')[4])\n",
    "            transcript = list(filter(None, line.split('\\t')[3].split(';')))\n",
    "            if '[GO:0031966]' in lines:\n",
    "                continue\n",
    "            else:\n",
    "                if transcript in ER_associated:\n",
    "                    continue\n",
    "                else:\n",
    "                    nonER_associated = nonER_associated + transcript\n",
    "                    \n",
    "    #print(len(nonER_associated))"
   ]
  },
  {
   "cell_type": "code",
   "execution_count": 295,
   "metadata": {},
   "outputs": [],
   "source": [
    "#2.subcellular group 의 transcript 값을 gene 값으로 바꾸어주기\n",
    "#앞에서 genedic 랑 genelist를 모두 gene값에 대해 구해서, 다시 transcript 값에 대해 구하면 너무 시간이 오래 걸릴 것 같았음. 그리고 어차피 GO entry와 ENSMUSG가 일대일로\n",
    "#매칭되는 것 같아서 그냥 subcellular group을 gene 값으로 바꾸어주었다.\n",
    "#ENSEMBL biomart 활용\n",
    "\n",
    "ENSEMBL = {}\n",
    "with open ('mart_export.txt') as inpfile:\n",
    "    for line in inpfile:\n",
    "        if line.startswith('Gene'):\n",
    "            continue\n",
    "        else:\n",
    "            line = line.strip('\\n')\n",
    "            lines = line.split('\\t')\n",
    "            if lines[0] in ENSEMBL:\n",
    "                ENSEMBL[lines[0]] = ENSEMBL[lines[0]] + [lines[1]]\n",
    "            else:\n",
    "                ENSEMBL[lines[0]] = [lines[1]]"
   ]
  },
  {
   "cell_type": "code",
   "execution_count": 301,
   "metadata": {},
   "outputs": [],
   "source": [
    "key_list = list(ENSEMBL.keys())\n",
    "val_list = list(ENSEMBL.values())\n",
    "cytoplasm_gene = []\n",
    "\n",
    "for element in cytoplasm:\n",
    "    for line in val_list:\n",
    "        if element in line:\n",
    "            position = val_list.index(line)\n",
    "            if key_list[position] in cytoplasm_gene:\n",
    "                continue\n",
    "            else:\n",
    "                cytoplasm_gene.append(key_list[position])"
   ]
  },
  {
   "cell_type": "code",
   "execution_count": 306,
   "metadata": {},
   "outputs": [
    {
     "data": {
      "text/plain": [
       "['ENSMUSG00000020101',\n",
       " 'ENSMUSG00000018776',\n",
       " 'ENSMUSG00000073139',\n",
       " 'ENSMUSG00000030160',\n",
       " 'ENSMUSG00000019158',\n",
       " 'ENSMUSG00000026411',\n",
       " 'ENSMUSG00000074344',\n",
       " 'ENSMUSG00000003528',\n",
       " 'ENSMUSG00000066894']"
      ]
     },
     "execution_count": 306,
     "metadata": {},
     "output_type": "execute_result"
    }
   ],
   "source": [
    "integral_membrane_gene = []\n",
    "\n",
    "for element in integral_membrane:\n",
    "    for line in val_list:\n",
    "        if element in line:\n",
    "            position = val_list.index(line)\n",
    "            if key_list[position] in integral_membrane_gene:\n",
    "                continue\n",
    "            else:\n",
    "                integral_membrane_gene.append(key_list[position])\n",
    "#integral_membrane_gene[1:10]"
   ]
  },
  {
   "cell_type": "code",
   "execution_count": 308,
   "metadata": {},
   "outputs": [
    {
     "name": "stdout",
     "output_type": "stream",
     "text": [
      "2398\n"
     ]
    },
    {
     "data": {
      "text/plain": [
       "['ENSMUSG00000078675',\n",
       " 'ENSMUSG00000078686',\n",
       " 'ENSMUSG00000106882',\n",
       " 'ENSMUSG00000107188',\n",
       " 'ENSMUSG00000024906',\n",
       " 'ENSMUSG00000038489',\n",
       " 'ENSMUSG00000024217',\n",
       " 'ENSMUSG00000040824',\n",
       " 'ENSMUSG00000022414']"
      ]
     },
     "execution_count": 308,
     "metadata": {},
     "output_type": "execute_result"
    }
   ],
   "source": [
    "Nucleus_gene = []\n",
    "\n",
    "for element in Nucleus:\n",
    "    for line in val_list:\n",
    "        if element in line:\n",
    "            position = val_list.index(line)\n",
    "            if key_list[position] in Nucleus_gene:\n",
    "                continue\n",
    "            else:\n",
    "                Nucleus_gene.append(key_list[position])\n",
    "                \n",
    "#print(len(Nucleus_gene))\n",
    "#Nucleus_gene[1:10]"
   ]
  },
  {
   "cell_type": "code",
   "execution_count": 322,
   "metadata": {},
   "outputs": [],
   "source": [
    "Nucleus_x=[]\n",
    "Nucleus_y=[]\n",
    "integral_membrane_x = []\n",
    "integral_membrane_y = []\n",
    "cytoplasm_x = []\n",
    "cytoplasm_y = []\n",
    "\n",
    "for key in clip_enrichment_result:\n",
    "    keys = key.split('.')[0]\n",
    "    if keys in Nucleus_gene:\n",
    "        Nucleus_x.append(clip_enrichment_result[key])\n",
    "        Nucleus_y.append(Ribosome_density_change_result[key])\n",
    "    elif keys in integral_membrane_gene:\n",
    "        integral_membrane_x.append(clip_enrichment_result[key])\n",
    "        integral_membrane_y.append(Ribosome_density_change_result[key])\n",
    "    elif keys in cytoplasm_gene:\n",
    "        cytoplasm_x.append(clip_enrichment_result[key])\n",
    "        cytoplasm_y.append(Ribosome_density_change_result[key])\n",
    "    else:\n",
    "        continue"
   ]
  },
  {
   "cell_type": "code",
   "execution_count": 360,
   "metadata": {},
   "outputs": [
    {
     "data": {
      "image/png": "[encoded data removed]",
      "text/plain": [
       "<Figure size 432x288 with 1 Axes>"
      ]
     },
     "metadata": {
      "needs_background": "light"
     },
     "output_type": "display_data"
    }
   ],
   "source": [
    "#그래프 그리기\n",
    "import matplotlib.pyplot as plt\n",
    "\n",
    "\n",
    "plt.scatter(Nucleus_x, Nucleus_y, c = 'blue', s= 1, alpha=0.4, label = 'Nucleus')\n",
    "plt.scatter(integral_membrane_x, integral_membrane_y, c= 'red', s= 1, alpha = 0.4, label = 'Integral membrane')\n",
    "plt.scatter(cytoplasm_x, cytoplasm_y, c='green', s = 1, alpha = 0.4, label = 'Cytoplasm')\n",
    "\n",
    "plt.legend(fontsize='medium')\n",
    "plt.ylabel('Ribosome density change\\nupon Lin28a knockdown (log2)')\n",
    "plt.xlabel('Lin28A CLIP enrichment (log2)')\n",
    "plt.grid(which = 'major', axis = 'y')\n",
    "plt.title(label = 'Protein localization', loc = 'center', pad = 10)\n",
    "plt.savefig('/qbio/nest/minor/data/GO')\n",
    "plt.show()\n",
    "\n",
    "#너무 낮은 값 cutoff 추가로 해줘야됨"
   ]
  },
  {
   "cell_type": "code",
   "execution_count": null,
   "metadata": {},
   "outputs": [],
   "source": []
  }
 ],
 "metadata": {
  "kernelspec": {
   "display_name": "Python 3",
   "language": "python",
   "name": "python3"
  },
  "language_info": {
   "codemirror_mode": {
    "name": "ipython",
    "version": 3
   },
   "file_extension": ".py",
   "mimetype": "text/x-python",
   "name": "python",
   "nbconvert_exporter": "python",
   "pygments_lexer": "ipython3",
   "version": "3.7.9"
  }
 },
 "nbformat": 4,
 "nbformat_minor": 4
}
