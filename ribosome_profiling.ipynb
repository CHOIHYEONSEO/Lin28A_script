{
 "cells": [
  {
   "cell_type": "code",
   "execution_count": 157,
   "metadata": {},
   "outputs": [
    {
     "name": "stdout",
     "output_type": "stream",
     "text": [
      "/qbio/nest/minor/data/reference\n"
     ]
    }
   ],
   "source": [
    "% cd /qbio/nest/minor/data/reference/"
   ]
  },
  {
   "cell_type": "code",
   "execution_count": 158,
   "metadata": {},
   "outputs": [],
   "source": [
    "#terminal에서 grep으로 ncRNA 포함 line 추출 > ncRNAlist.txt > 그중 transcript_id만 추출 > ncRNAlist\n",
    "\n",
    "ncRNAlist = []\n",
    "import re\n",
    "\n",
    "with open ('ncRNAlist.txt') as inpfile:\n",
    "    for line in inpfile:\n",
    "        element = line.split('\\t')\n",
    "        if element[2] == 'transcript':\n",
    "            transcript_id = re.split('\";|\"',element[8])[3]\n",
    "            if transcript_id in ncRNAlist:\n",
    "                continue\n",
    "            else:\n",
    "                ncRNAlist.append(transcript_id)"
   ]
  },
  {
   "cell_type": "code",
   "execution_count": 159,
   "metadata": {},
   "outputs": [],
   "source": [
    "#longest isoform\n",
    "transcript_isoforms = {}\n",
    "longest_isoform = []\n",
    "\n",
    "with open ('gencode.vM25.primary_assembly.annotation.gtf') as inpfile:\n",
    "    for line in inpfile:\n",
    "        if line.startswith('#'):\n",
    "            continue\n",
    "        else:\n",
    "            line = line.strip('\\n')\n",
    "            column = line.split('\\t')\n",
    "            if column[2] == 'transcript':\n",
    "                length = abs(int(column[4]) - int(column[3]))\n",
    "                ids = re.split('\";|\"',column[8])\n",
    "                gene_id = ids[1]\n",
    "                transcript_id = ids[3]\n",
    "                if transcript_id in ncRNAlist:#non-coding RNA 제외\n",
    "                    continue\n",
    "                else:\n",
    "                    if gene_id in transcript_isoforms:\n",
    "                        transcript_isoforms[gene_id].append([transcript_id, length])\n",
    "                    else:\n",
    "                        transcript_isoforms[gene_id] = [[transcript_id, length]]\n",
    "for gene in transcript_isoforms: #longest isoform만 남기기 \n",
    "    lists = []\n",
    "    for transcript in transcript_isoforms[gene]:\n",
    "        lists.append(transcript[1])\n",
    "    for transcript in transcript_isoforms[gene]:\n",
    "        if transcript[1] == max(lists):\n",
    "            longest_isoform.append(transcript[0])\n",
    "            break #만약 2개 이상 isoform의 길이가 같다면 임의로 하나만 선택하도록"
   ]
  },
  {
   "cell_type": "code",
   "execution_count": 160,
   "metadata": {},
   "outputs": [],
   "source": [
    "CDS_length = {} #transcript_id:[start_codon, CDS_length, strand]\n",
    "\n",
    "with open ('gencode.vM25.primary_assembly.annotation.gtf') as inpfile:\n",
    "    for line in inpfile:\n",
    "        if line.startswith('#'):\n",
    "            continue\n",
    "        else:\n",
    "            line = line.strip('\\n')\n",
    "            column = line.split('\\t')\n",
    "            ids = re.split('\";|\"',column[8])\n",
    "            if column[2] == 'CDS' and ids[3] in longest_isoform: #각 longest isoform의 CDS만 추출\n",
    "                    transcript_id = ids[3]\n",
    "                    CDS_start = int(column[3])\n",
    "                    CDS_end = int(column[4])\n",
    "                    length = abs(int(column[4]) - int(column[3])) + 1\n",
    "                    strand = column[6]\n",
    "                    if transcript_id in CDS_length:\n",
    "                        if strand == '+':\n",
    "                            CDS_length[transcript_id][1] = CDS_length[transcript_id][1] + length\n",
    "                            if CDS_start < CDS_length[transcript_id][0]:\n",
    "                                CDS_length[transcript_id][0] = CDS_start  \n",
    "                        else:# - strand\n",
    "                            CDS_length[transcript_id][1] = CDS_length[transcript_id][1] + length\n",
    "                            if CDS_end > CDS_length[transcript_id][0]:\n",
    "                                CDS_length[transcript_id][0] = CDS_end      \n",
    "                    else:\n",
    "                        if strand == '+':\n",
    "                            CDS_length[transcript_id] = [CDS_start, length, strand]\n",
    "                        else:# - strand\n",
    "                            CDS_length[transcript_id] = [CDS_end, length, strand]#CDS_length에는 CDSregion이 있는 isoform만 있다(거의 반이 줄어들었다)"
   ]
  },
  {
   "cell_type": "code",
   "execution_count": 161,
   "metadata": {},
   "outputs": [],
   "source": [
    "Refseq = {}#transcript_id:[CDS_length, transcript_start, transcript_end, start_codon, strand]\n",
    "\n",
    "with open ('gencode.vM25.primary_assembly.annotation.gtf') as inpfile:\n",
    "    for line in inpfile:\n",
    "        if line.startswith('#'):\n",
    "            continue\n",
    "        else:\n",
    "            line = line.strip('\\n')\n",
    "            column = line.split('\\t')\n",
    "            ids = re.split('\";|\"',column[8])\n",
    "            if column[2] =='transcript' and ids[3] in CDS_length:\n",
    "                transcript_id = ids[3]\n",
    "                transcript_start = int(column[3])\n",
    "                transcript_end = int(column[4])\n",
    "                strand = column[6]\n",
    "                #CDS_length = transcript_id:[start_codon, CDS_length, strand]\n",
    "                if strand == '+':\n",
    "                    Refseq[transcript_id] = [CDS_length[transcript_id][1], transcript_start, transcript_end, CDS_length[transcript_id][0], strand]\n",
    "                else:\n",
    "                    Refseq[transcript_id] = [CDS_length[transcript_id][1], transcript_start, transcript_end, CDS_length[transcript_id][0], strand]"
   ]
  },
  {
   "cell_type": "code",
   "execution_count": 162,
   "metadata": {},
   "outputs": [],
   "source": [
    "#Refseq transcript별 CDS dictionary 만들기\n",
    "CDS_dicts = {} #transcript_id:[CDS_start, CDS_end, length(개별 CDS, 전체 CDS길이 x)]\n",
    "\n",
    "with open ('gencode.vM25.primary_assembly.annotation.gtf') as inpfile:\n",
    "    for line in inpfile:\n",
    "        if line.startswith('#'):\n",
    "            continue\n",
    "        else:\n",
    "            line = line.strip('\\n')\n",
    "            column = line.split('\\t')\n",
    "            transcript_id = re.split('\";|\"',column[8])[3]\n",
    "            if column[2] == 'CDS' and transcript_id in Refseq:\n",
    "                length = abs(int(column[3])-int(column[4]))\n",
    "                CDS_start = int(column[3])\n",
    "                CDS_end = int(column[4])\n",
    "                if transcript_id in CDS_dicts:\n",
    "                    CDS_dicts[transcript_id].append([CDS_start, CDS_end, length])\n",
    "                else:\n",
    "                    CDS_dicts[transcript_id] = [[CDS_start, CDS_end, length]]"
   ]
  },
  {
   "cell_type": "code",
   "execution_count": 163,
   "metadata": {},
   "outputs": [
    {
     "name": "stdout",
     "output_type": "stream",
     "text": [
      "/qbio/nest/minor/outcome/outcome_alignment/SAMfiles/SAM_rimoved_4,16\n"
     ]
    }
   ],
   "source": [
    "% cd /qbio/nest/minor/outcome/outcome_alignment/SAMfiles/SAM_rimoved_4,16/"
   ]
  },
  {
   "cell_type": "code",
   "execution_count": 164,
   "metadata": {},
   "outputs": [],
   "source": [
    "alignments={} # Qname:[transcript_id, edit_distance, POS, strand]\n",
    "single_hits = {} # alignments[Qname] 의 값 중 single_best hit만 > Qname별 하나씩\n",
    "with open ('ribosomeprof_siLin28a_removed.sam') as inpfile:\n",
    "    for line in inpfile:\n",
    "        if line.startswith('@'): #header pass\n",
    "            continue\n",
    "        else:\n",
    "            line = line.strip('\\n')\n",
    "            column = line.split('\\t')\n",
    "            transcript_id = column[2]\n",
    "            Qname = column[0]\n",
    "            POS = int(column[3]) \n",
    "            edit_distance = int(column[15].split(':')[2])#sam file의 nM값\n",
    "            if transcript_id in Refseq:\n",
    "                strand = Refseq[transcript_id][4]\n",
    "            #Refseq: nonredundant Refseq transcript dictionary\n",
    "            #        transcript_id:[transcript_id, CDS_length, 5'UTR length, strand(+/-)]\n",
    "                if Qname in alignments:\n",
    "                    alignments[Qname].append([transcript_id, edit_distance, POS, strand])\n",
    "                else:\n",
    "                    alignments[Qname] = [[transcript_id, edit_distance, POS, strand]]\n",
    "                    \n",
    "for Qname in alignments:\n",
    "    if len(alignments[Qname]) == 1 and alignments[Qname][0][1] <= 1:#single alignment 된 경우&edit distancd<=1\n",
    "        single_hits[Qname] = alignments[Qname][0]\n",
    "    else:#multi align 된 경우\n",
    "        lists = []#edit distance의 list\n",
    "        for alings in alignments[Qname]:\n",
    "            lists.append(alings[1])\n",
    "        if lists.count(min(lists)) == 1 and min(lists) <= 1:\n",
    "            for alings in alignments[Qname]:\n",
    "                if alings[1] == min(lists):\n",
    "                    single_hits[Qname] = alings\n",
    "                    break"
   ]
  },
  {
   "cell_type": "code",
   "execution_count": 178,
   "metadata": {},
   "outputs": [],
   "source": [
    "#ribosomeprof_startcodon, ribosomeprof_endcodon 구하기\n",
    "ribosomeprof_startcodon = []\n",
    "ribosomeprof_stopcodon = []\n",
    "\n",
    "for read in single_hits:\n",
    "    transcript_id = single_hits[read][0]\n",
    "    POS = single_hits[read][2]\n",
    "    strand = single_hits[read][3]\n",
    "    #Refseq : transcript_id=[CDS_length, transcript_start, transcript_end, start_codon, strand]\n",
    "    whole_CDS_length = Refseq[transcript_id][0]\n",
    "    transcript_start = Refseq[transcript_id][1]\n",
    "    transcript_end = Refseq[transcript_id][2]\n",
    "    start_codon = Refseq[transcript_id][3]\n",
    "    #CDS_dicts : transcript_id=[[CDS_start, CDS_end, length(개별 CDS, 전체 CDS길이 x)], ....]\n",
    "    if strand == '+':\n",
    "        read_start = POS + transcript_start\n",
    "        if read_start <= start_codon:\n",
    "            ribo_start = read_start - start_codon\n",
    "        else:\n",
    "            ribo_start = 0\n",
    "            for CDS in CDS_dicts[transcript_id]:\n",
    "                CDS_start = CDS[0]\n",
    "                CDS_end = CDS[1]\n",
    "                length = CDS[2]\n",
    "                if CDS_end < read_start:\n",
    "                    ribo_start += length\n",
    "                if CDS_start <= read_start and read_start <= CDS_end:\n",
    "                    ribo_start += (read_start - CDS_start)\n",
    "                    break\n",
    "        ribosomeprof_startcodon.append(ribo_start)\n",
    "        ribosomeprof_stopcodon.append(whole_CDS_length - ribo_start + 1)\n",
    "    else:#strand : -\n",
    "        read_start = transcript_end - POS\n",
    "        if read_start >= start_codon:\n",
    "            ribo_start = start_codon - read_start\n",
    "        else:\n",
    "            ribo_start = 0\n",
    "            for CDS in CDS_dicts[transcript_id]:\n",
    "                CDS_start = CDS[0]\n",
    "                CDS_end = CDS[1]\n",
    "                length = CDS[2]\n",
    "                if CDS_start > read_start:\n",
    "                    ribo_start += length\n",
    "                if CDS_start <= read_start and read_start <= CDS_end:\n",
    "                    ribo_start += (CDS_end - read_start)\n",
    "                    break\n",
    "        ribosomeprof_startcodon.append(ribo_start)\n",
    "        ribosomeprof_stopcodon.append(whole_CDS_length - ribo_start + 1)"
   ]
  },
  {
   "cell_type": "code",
   "execution_count": 179,
   "metadata": {},
   "outputs": [
    {
     "data": {
      "image/png": "[encoded data removed]",
      "text/plain": [
       "<Figure size 432x288 with 1 Axes>"
      ]
     },
     "metadata": {
      "needs_background": "light"
     },
     "output_type": "display_data"
    }
   ],
   "source": [
    "from collections import Counter\n",
    "\n",
    "startcodon = dict(Counter(ribosomeprof_startcodon))\n",
    "stopcodon = dict(Counter(ribosomeprof_stopcodon))\n",
    "\n",
    "import matplotlib.pyplot as plt\n",
    "from collections import Counter\n",
    "\n",
    "plt.bar(startcodon.keys(), startcodon.values())\n",
    "plt.xlim(-50, 50)\n",
    "plt.show()"
   ]
  },
  {
   "cell_type": "code",
   "execution_count": 181,
   "metadata": {},
   "outputs": [
    {
     "data": {
      "image/png": "[encoded data removed]",
      "text/plain": [
       "<Figure size 432x288 with 1 Axes>"
      ]
     },
     "metadata": {
      "needs_background": "light"
     },
     "output_type": "display_data"
    }
   ],
   "source": [
    "plt.bar(stopcodon.keys(), stopcodon.values())\n",
    "plt.xlim(50, -50)\n",
    "plt.show()"
   ]
  },
  {
   "cell_type": "code",
   "execution_count": null,
   "metadata": {},
   "outputs": [],
   "source": []
  }
 ],
 "metadata": {
  "kernelspec": {
   "display_name": "Python 3",
   "language": "python",
   "name": "python3"
  },
  "language_info": {
   "codemirror_mode": {
    "name": "ipython",
    "version": 3
   },
   "file_extension": ".py",
   "mimetype": "text/x-python",
   "name": "python",
   "nbconvert_exporter": "python",
   "pygments_lexer": "ipython3",
   "version": "3.7.9"
  }
 },
 "nbformat": 4,
 "nbformat_minor": 4
}
